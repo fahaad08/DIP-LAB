{
 "cells": [
  {
   "cell_type": "markdown",
   "id": "13304cac-9e70-4765-b604-ce013331f680",
   "metadata": {},
   "source": [
    "**DIP LAB 1**"
   ]
  },
  {
   "cell_type": "markdown",
   "id": "c9fae8ff-f043-457f-b46c-988a2fe22478",
   "metadata": {},
   "source": [
    "**Adding Two Matrices**"
   ]
  },
  {
   "cell_type": "code",
   "execution_count": 3,
   "id": "f04dd240-f606-470b-8c7f-b801912bb6b0",
   "metadata": {},
   "outputs": [
    {
     "name": "stdout",
     "output_type": "stream",
     "text": [
      "[8, 11, 8]\n",
      "[14, 11, 14]\n",
      "[11, 12, 13]\n"
     ]
    }
   ],
   "source": [
    "X = [[4,7,4],\n",
    "    [7,4,7],\n",
    "    [7,7,7]]\n",
    "\n",
    "Y = [[4,4,4],\n",
    "    [7,7,7],\n",
    "    [4,5,6]]\n",
    "\n",
    "result = [[0,0,0],\n",
    "         [0,0,0],\n",
    "         [0,0,0]]\n",
    "\n",
    "# iterate through rows\n",
    "for i in range(len(X)):\n",
    "   # iterate through columns\n",
    "   for j in range(len(X[0])):\n",
    "       result[i][j] = X[i][j] + Y[i][j]\n",
    "\n",
    "for r in result:\n",
    "   print(r)"
   ]
  },
  {
   "cell_type": "markdown",
   "id": "0c6408d1-ef25-4a24-a6e1-958fd77cd609",
   "metadata": {},
   "source": [
    "**Subtracting Two Matrices**"
   ]
  },
  {
   "cell_type": "code",
   "execution_count": 8,
   "id": "c4c67cba-12b1-4a7d-90ea-182cd36e5bff",
   "metadata": {},
   "outputs": [
    {
     "name": "stdout",
     "output_type": "stream",
     "text": [
      "[0, 3, 0]\n",
      "[0, -3, 0]\n",
      "[3, 2, 1]\n"
     ]
    }
   ],
   "source": [
    "X = [[4,7,4],\n",
    "    [7,4,7],\n",
    "    [7,7,7]]\n",
    "\n",
    "Y = [[4,4,4],\n",
    "    [7,7,7],\n",
    "    [4,5,6]]\n",
    "\n",
    "result = [[0,0,0],\n",
    "         [0,0,0],\n",
    "         [0,0,0]]\n",
    "\n",
    "# iterate through rows\n",
    "for i in range(len(X)):\n",
    "   # iterate through columns\n",
    "   for j in range(len(X[0])):\n",
    "       result[i][j] = X[i][j] - Y[i][j]\n",
    "\n",
    "for r in result:\n",
    "    print(r)"
   ]
  },
  {
   "cell_type": "code",
   "execution_count": null,
   "id": "1f51c43a-edd8-4175-850f-09ec8a445469",
   "metadata": {},
   "outputs": [],
   "source": []
  }
 ],
 "metadata": {
  "kernelspec": {
   "display_name": "Python 3 (ipykernel)",
   "language": "python",
   "name": "python3"
  },
  "language_info": {
   "codemirror_mode": {
    "name": "ipython",
    "version": 3
   },
   "file_extension": ".py",
   "mimetype": "text/x-python",
   "name": "python",
   "nbconvert_exporter": "python",
   "pygments_lexer": "ipython3",
   "version": "3.12.4"
  }
 },
 "nbformat": 4,
 "nbformat_minor": 5
}
